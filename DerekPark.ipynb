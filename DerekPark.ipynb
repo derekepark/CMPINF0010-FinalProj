{
 "cells": [
  {
   "cell_type": "code",
   "execution_count": 58,
   "metadata": {},
   "outputs": [],
   "source": [
    "import pandas as pd\n",
    "import numpy as np\n",
    "%matplotlib inline"
   ]
  },
  {
   "cell_type": "code",
   "execution_count": 59,
   "metadata": {},
   "outputs": [],
   "source": [
    "data= pd.read_csv(\"school.csv\")"
   ]
  },
  {
   "cell_type": "code",
   "execution_count": 73,
   "metadata": {},
   "outputs": [
    {
     "data": {
      "text/html": [
       "<div>\n",
       "<style scoped>\n",
       "    .dataframe tbody tr th:only-of-type {\n",
       "        vertical-align: middle;\n",
       "    }\n",
       "\n",
       "    .dataframe tbody tr th {\n",
       "        vertical-align: top;\n",
       "    }\n",
       "\n",
       "    .dataframe thead th {\n",
       "        text-align: right;\n",
       "    }\n",
       "</style>\n",
       "<table border=\"1\" class=\"dataframe\">\n",
       "  <thead>\n",
       "    <tr style=\"text-align: right;\">\n",
       "      <th></th>\n",
       "      <th>Neighborhood</th>\n",
       "      <th>Id</th>\n",
       "      <th>Estimate; Total:</th>\n",
       "    </tr>\n",
       "  </thead>\n",
       "  <tbody>\n",
       "    <tr>\n",
       "      <th>77</th>\n",
       "      <td>Squirrel Hill South</td>\n",
       "      <td>78</td>\n",
       "      <td>15510.0</td>\n",
       "    </tr>\n",
       "    <tr>\n",
       "      <th>68</th>\n",
       "      <td>Shadyside</td>\n",
       "      <td>69</td>\n",
       "      <td>13290.0</td>\n",
       "    </tr>\n",
       "    <tr>\n",
       "      <th>13</th>\n",
       "      <td>Brookline</td>\n",
       "      <td>14</td>\n",
       "      <td>12777.0</td>\n",
       "    </tr>\n",
       "    <tr>\n",
       "      <th>76</th>\n",
       "      <td>Squirrel Hill North</td>\n",
       "      <td>77</td>\n",
       "      <td>11072.0</td>\n",
       "    </tr>\n",
       "    <tr>\n",
       "      <th>15</th>\n",
       "      <td>Carrick</td>\n",
       "      <td>16</td>\n",
       "      <td>9825.0</td>\n",
       "    </tr>\n",
       "    <tr>\n",
       "      <th>56</th>\n",
       "      <td>North Oakland</td>\n",
       "      <td>57</td>\n",
       "      <td>9565.0</td>\n",
       "    </tr>\n",
       "    <tr>\n",
       "      <th>53</th>\n",
       "      <td>Mount Washington</td>\n",
       "      <td>54</td>\n",
       "      <td>8525.0</td>\n",
       "    </tr>\n",
       "    <tr>\n",
       "      <th>9</th>\n",
       "      <td>Bloomfield</td>\n",
       "      <td>10</td>\n",
       "      <td>8498.0</td>\n",
       "    </tr>\n",
       "    <tr>\n",
       "      <th>7</th>\n",
       "      <td>Beechview</td>\n",
       "      <td>8</td>\n",
       "      <td>7770.0</td>\n",
       "    </tr>\n",
       "    <tr>\n",
       "      <th>36</th>\n",
       "      <td>Greenfield</td>\n",
       "      <td>37</td>\n",
       "      <td>7402.0</td>\n",
       "    </tr>\n",
       "  </tbody>\n",
       "</table>\n",
       "</div>"
      ],
      "text/plain": [
       "           Neighborhood  Id  Estimate; Total:\n",
       "77  Squirrel Hill South  78           15510.0\n",
       "68            Shadyside  69           13290.0\n",
       "13            Brookline  14           12777.0\n",
       "76  Squirrel Hill North  77           11072.0\n",
       "15              Carrick  16            9825.0\n",
       "56        North Oakland  57            9565.0\n",
       "53     Mount Washington  54            8525.0\n",
       "9            Bloomfield  10            8498.0\n",
       "7             Beechview   8            7770.0\n",
       "36           Greenfield  37            7402.0"
      ]
     },
     "execution_count": 73,
     "metadata": {},
     "output_type": "execute_result"
    }
   ],
   "source": [
    "data.iloc[:,:3].sort_values('Estimate; Total:', ascending=False).head(10)"
   ]
  },
  {
   "cell_type": "code",
   "execution_count": 61,
   "metadata": {},
   "outputs": [
    {
     "data": {
      "text/html": [
       "<div>\n",
       "<style scoped>\n",
       "    .dataframe tbody tr th:only-of-type {\n",
       "        vertical-align: middle;\n",
       "    }\n",
       "\n",
       "    .dataframe tbody tr th {\n",
       "        vertical-align: top;\n",
       "    }\n",
       "\n",
       "    .dataframe thead th {\n",
       "        text-align: right;\n",
       "    }\n",
       "</style>\n",
       "<table border=\"1\" class=\"dataframe\">\n",
       "  <thead>\n",
       "    <tr style=\"text-align: right;\">\n",
       "      <th></th>\n",
       "      <th>Neighborhood</th>\n",
       "      <th>Estimate; Enrolled in school: - Enrolled in college, undergraduate years</th>\n",
       "    </tr>\n",
       "  </thead>\n",
       "  <tbody>\n",
       "    <tr>\n",
       "      <th>56</th>\n",
       "      <td>North Oakland</td>\n",
       "      <td>6123.0</td>\n",
       "    </tr>\n",
       "    <tr>\n",
       "      <th>19</th>\n",
       "      <td>Central Oakland</td>\n",
       "      <td>4206.0</td>\n",
       "    </tr>\n",
       "    <tr>\n",
       "      <th>76</th>\n",
       "      <td>Squirrel Hill North</td>\n",
       "      <td>3916.0</td>\n",
       "    </tr>\n",
       "    <tr>\n",
       "      <th>10</th>\n",
       "      <td>Bluff</td>\n",
       "      <td>3376.0</td>\n",
       "    </tr>\n",
       "    <tr>\n",
       "      <th>16</th>\n",
       "      <td>Central Business District</td>\n",
       "      <td>1475.0</td>\n",
       "    </tr>\n",
       "    <tr>\n",
       "      <th>72</th>\n",
       "      <td>South Side Flats</td>\n",
       "      <td>1394.0</td>\n",
       "    </tr>\n",
       "    <tr>\n",
       "      <th>68</th>\n",
       "      <td>Shadyside</td>\n",
       "      <td>1333.0</td>\n",
       "    </tr>\n",
       "    <tr>\n",
       "      <th>70</th>\n",
       "      <td>South Oakland</td>\n",
       "      <td>1042.0</td>\n",
       "    </tr>\n",
       "    <tr>\n",
       "      <th>83</th>\n",
       "      <td>Terrace Village</td>\n",
       "      <td>1019.0</td>\n",
       "    </tr>\n",
       "    <tr>\n",
       "      <th>9</th>\n",
       "      <td>Bloomfield</td>\n",
       "      <td>693.0</td>\n",
       "    </tr>\n",
       "  </tbody>\n",
       "</table>\n",
       "</div>"
      ],
      "text/plain": [
       "                 Neighborhood  \\\n",
       "56              North Oakland   \n",
       "19            Central Oakland   \n",
       "76        Squirrel Hill North   \n",
       "10                      Bluff   \n",
       "16  Central Business District   \n",
       "72           South Side Flats   \n",
       "68                  Shadyside   \n",
       "70              South Oakland   \n",
       "83            Terrace Village   \n",
       "9                  Bloomfield   \n",
       "\n",
       "    Estimate; Enrolled in school: - Enrolled in college, undergraduate years  \n",
       "56                                             6123.0                         \n",
       "19                                             4206.0                         \n",
       "76                                             3916.0                         \n",
       "10                                             3376.0                         \n",
       "16                                             1475.0                         \n",
       "72                                             1394.0                         \n",
       "68                                             1333.0                         \n",
       "70                                             1042.0                         \n",
       "83                                             1019.0                         \n",
       "9                                               693.0                         "
      ]
     },
     "execution_count": 61,
     "metadata": {},
     "output_type": "execute_result"
    }
   ],
   "source": [
    "data1= data[[\"Neighborhood\",\"Estimate; Enrolled in school: - Enrolled in college, undergraduate years\"]]\n",
    "data1.sort_values('Estimate; Enrolled in school: - Enrolled in college, undergraduate years', ascending=False).head(10)"
   ]
  },
  {
   "cell_type": "code",
   "execution_count": 72,
   "metadata": {},
   "outputs": [
    {
     "data": {
      "text/html": [
       "<div>\n",
       "<style scoped>\n",
       "    .dataframe tbody tr th:only-of-type {\n",
       "        vertical-align: middle;\n",
       "    }\n",
       "\n",
       "    .dataframe tbody tr th {\n",
       "        vertical-align: top;\n",
       "    }\n",
       "\n",
       "    .dataframe thead th {\n",
       "        text-align: right;\n",
       "    }\n",
       "</style>\n",
       "<table border=\"1\" class=\"dataframe\">\n",
       "  <thead>\n",
       "    <tr style=\"text-align: right;\">\n",
       "      <th></th>\n",
       "      <th>Neighborhood</th>\n",
       "      <th>Enrolled not in college</th>\n",
       "    </tr>\n",
       "  </thead>\n",
       "  <tbody>\n",
       "    <tr>\n",
       "      <th>77</th>\n",
       "      <td>Squirrel Hill South</td>\n",
       "      <td>14900.0</td>\n",
       "    </tr>\n",
       "    <tr>\n",
       "      <th>13</th>\n",
       "      <td>Brookline</td>\n",
       "      <td>12221.0</td>\n",
       "    </tr>\n",
       "    <tr>\n",
       "      <th>68</th>\n",
       "      <td>Shadyside</td>\n",
       "      <td>11957.0</td>\n",
       "    </tr>\n",
       "    <tr>\n",
       "      <th>15</th>\n",
       "      <td>Carrick</td>\n",
       "      <td>9406.0</td>\n",
       "    </tr>\n",
       "    <tr>\n",
       "      <th>53</th>\n",
       "      <td>Mount Washington</td>\n",
       "      <td>8060.0</td>\n",
       "    </tr>\n",
       "    <tr>\n",
       "      <th>9</th>\n",
       "      <td>Bloomfield</td>\n",
       "      <td>7805.0</td>\n",
       "    </tr>\n",
       "    <tr>\n",
       "      <th>7</th>\n",
       "      <td>Beechview</td>\n",
       "      <td>7211.0</td>\n",
       "    </tr>\n",
       "    <tr>\n",
       "      <th>76</th>\n",
       "      <td>Squirrel Hill North</td>\n",
       "      <td>7156.0</td>\n",
       "    </tr>\n",
       "    <tr>\n",
       "      <th>36</th>\n",
       "      <td>Greenfield</td>\n",
       "      <td>7010.0</td>\n",
       "    </tr>\n",
       "    <tr>\n",
       "      <th>12</th>\n",
       "      <td>Brighton Heights</td>\n",
       "      <td>6861.0</td>\n",
       "    </tr>\n",
       "  </tbody>\n",
       "</table>\n",
       "</div>"
      ],
      "text/plain": [
       "           Neighborhood  Enrolled not in college\n",
       "77  Squirrel Hill South                  14900.0\n",
       "13            Brookline                  12221.0\n",
       "68            Shadyside                  11957.0\n",
       "15              Carrick                   9406.0\n",
       "53     Mount Washington                   8060.0\n",
       "9            Bloomfield                   7805.0\n",
       "7             Beechview                   7211.0\n",
       "76  Squirrel Hill North                   7156.0\n",
       "36           Greenfield                   7010.0\n",
       "12     Brighton Heights                   6861.0"
      ]
     },
     "execution_count": 72,
     "metadata": {},
     "output_type": "execute_result"
    }
   ],
   "source": [
    "data['Enrolled not in college'] = data['Estimate; Total:'] - data['Estimate; Enrolled in school: - Enrolled in college, undergraduate years']\n",
    "data2= data[[\"Neighborhood\",\"Enrolled not in college\"]]\n",
    "data2.sort_values('Enrolled not in college', ascending=False).head(10)"
   ]
  },
  {
   "cell_type": "code",
   "execution_count": 78,
   "metadata": {},
   "outputs": [
    {
     "data": {
      "text/plain": [
       "<AxesSubplot:>"
      ]
     },
     "execution_count": 78,
     "metadata": {},
     "output_type": "execute_result"
    },
    {
     "data": {
      "image/png": "[encoded data removed]",
      "text/plain": [
       "<Figure size 432x288 with 1 Axes>"
      ]
     },
     "metadata": {
      "needs_background": "light"
     },
     "output_type": "display_data"
    }
   ],
   "source": [
    "data2.sort_values('Enrolled not in college', ascending=False).head(10).plot.bar()"
   ]
  },
  {
   "cell_type": "markdown",
   "metadata": {},
   "source": [
    "According to my dataset the best neighborhood in Pittsburgh was Squirrel Hill South. I came to this conclusion by looking over the data for the enrollment numbers of people in the neighborhood excluding the people enrolled in college. I decided to use this specfic metric to define the best neighborhood because education is a very important factor when looking at neighborhoods. The enrollment number of people in the neighborhood excluding people enrolled in college is correlated to the quality and accessibility of education in the neighborhood. Also parents of children not enrolled in college are especially worried about the safety of the neighborhood. If there are a lot of children enrolled in school in a certain neighborhood, it indicates that many families agree on the safety of the neighborhood and the quality of education that their children will recieve."
   ]
  },
  {
   "cell_type": "code",
   "execution_count": null,
   "metadata": {},
   "outputs": [],
   "source": []
  }
 ],
 "metadata": {
  "kernelspec": {
   "display_name": "Python 3",
   "language": "python",
   "name": "python3"
  },
  "language_info": {
   "codemirror_mode": {
    "name": "ipython",
    "version": 3
   },
   "file_extension": ".py",
   "mimetype": "text/x-python",
   "name": "python",
   "nbconvert_exporter": "python",
   "pygments_lexer": "ipython3",
   "version": "3.8.5"
  }
 },
 "nbformat": 4,
 "nbformat_minor": 5
}
