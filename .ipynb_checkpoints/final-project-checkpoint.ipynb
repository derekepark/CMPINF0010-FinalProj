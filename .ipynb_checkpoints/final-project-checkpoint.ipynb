{
 "cells": [
  {
   "cell_type": "code",
   "execution_count": 2,
   "metadata": {},
   "outputs": [],
   "source": [
    "# load pandas (always do this first)\n",
    "import pandas as pd\n",
    "import numpy as np\n",
    "import math"
   ]
  },
  {
   "cell_type": "code",
   "execution_count": 3,
   "metadata": {},
   "outputs": [
    {
     "data": {
      "text/html": [
       "<div>\n",
       "<style scoped>\n",
       "    .dataframe tbody tr th:only-of-type {\n",
       "        vertical-align: middle;\n",
       "    }\n",
       "\n",
       "    .dataframe tbody tr th {\n",
       "        vertical-align: top;\n",
       "    }\n",
       "\n",
       "    .dataframe thead th {\n",
       "        text-align: right;\n",
       "    }\n",
       "</style>\n",
       "<table border=\"1\" class=\"dataframe\">\n",
       "  <thead>\n",
       "    <tr style=\"text-align: right;\">\n",
       "      <th></th>\n",
       "      <th>Status</th>\n",
       "      <th>City</th>\n",
       "      <th>Neighborhood</th>\n",
       "      <th>estimated_tons</th>\n",
       "      <th>location_description</th>\n",
       "      <th>latitude</th>\n",
       "      <th>longitude</th>\n",
       "      <th>Unnamed: 8</th>\n",
       "    </tr>\n",
       "    <tr>\n",
       "      <th>site_name</th>\n",
       "      <th></th>\n",
       "      <th></th>\n",
       "      <th></th>\n",
       "      <th></th>\n",
       "      <th></th>\n",
       "      <th></th>\n",
       "      <th></th>\n",
       "      <th></th>\n",
       "    </tr>\n",
       "  </thead>\n",
       "  <tbody>\n",
       "    <tr>\n",
       "      <th>St. Martin Street</th>\n",
       "      <td>Surveyed</td>\n",
       "      <td>Pittsburgh</td>\n",
       "      <td>Allentown</td>\n",
       "      <td>0.5</td>\n",
       "      <td>NaN</td>\n",
       "      <td>40.42221971</td>\n",
       "      <td>-79.99022525</td>\n",
       "      <td>NaN</td>\n",
       "    </tr>\n",
       "    <tr>\n",
       "      <th>Brosville Street</th>\n",
       "      <td>Surveyed</td>\n",
       "      <td>Pittsburgh</td>\n",
       "      <td>Allentown</td>\n",
       "      <td>3</td>\n",
       "      <td>NaN</td>\n",
       "      <td>40.42370101</td>\n",
       "      <td>-79.98657393</td>\n",
       "      <td>NaN</td>\n",
       "    </tr>\n",
       "    <tr>\n",
       "      <th>McCain Street</th>\n",
       "      <td>Surveyed</td>\n",
       "      <td>Pittsburgh</td>\n",
       "      <td>Allentown</td>\n",
       "      <td>1</td>\n",
       "      <td>NaN</td>\n",
       "      <td>40.42427063</td>\n",
       "      <td>-79.99022675</td>\n",
       "      <td>NaN</td>\n",
       "    </tr>\n",
       "    <tr>\n",
       "      <th>Ceres Way</th>\n",
       "      <td>Surveyed</td>\n",
       "      <td>Pittsburgh</td>\n",
       "      <td>Allentown</td>\n",
       "      <td>0.5</td>\n",
       "      <td>NaN</td>\n",
       "      <td>40.42327242</td>\n",
       "      <td>-79.99248958</td>\n",
       "      <td>NaN</td>\n",
       "    </tr>\n",
       "    <tr>\n",
       "      <th>Eureka Street</th>\n",
       "      <td>Completed</td>\n",
       "      <td>Pittsburgh</td>\n",
       "      <td>Allentown</td>\n",
       "      <td>0.1</td>\n",
       "      <td>NaN</td>\n",
       "      <td>40.42372131</td>\n",
       "      <td>-79.99478912</td>\n",
       "      <td>NaN</td>\n",
       "    </tr>\n",
       "  </tbody>\n",
       "</table>\n",
       "</div>"
      ],
      "text/plain": [
       "                      Status        City Neighborhood estimated_tons  \\\n",
       "site_name                                                              \n",
       "St. Martin Street   Surveyed  Pittsburgh    Allentown            0.5   \n",
       "Brosville Street    Surveyed  Pittsburgh    Allentown              3   \n",
       "McCain Street       Surveyed  Pittsburgh    Allentown              1   \n",
       "Ceres Way           Surveyed  Pittsburgh    Allentown            0.5   \n",
       "Eureka Street      Completed  Pittsburgh    Allentown            0.1   \n",
       "\n",
       "                  location_description     latitude     longitude  Unnamed: 8  \n",
       "site_name                                                                      \n",
       "St. Martin Street                  NaN  40.42221971  -79.99022525         NaN  \n",
       "Brosville Street                   NaN  40.42370101  -79.98657393         NaN  \n",
       "McCain Street                      NaN  40.42427063  -79.99022675         NaN  \n",
       "Ceres Way                          NaN  40.42327242  -79.99248958         NaN  \n",
       "Eureka Street                      NaN  40.42372131  -79.99478912         NaN  "
      ]
     },
     "execution_count": 3,
     "metadata": {},
     "output_type": "execute_result"
    }
   ],
   "source": [
    "illegal_dumping = pd.read_csv(\"illegaldumpsites.csv\", \n",
    "                                       index_col=\"site_name\") # use the column named _id as the row index\n",
    "illegal_dumping.iloc[0:5]"
   ]
  },
  {
   "cell_type": "markdown",
   "metadata": {},
   "source": [
    "This code will remove all of the irrelevant columns from the dataframe. Additionally, it will take all of the blank values in the estimated tons column (inputed as NaN by pandas) and set them to .2 tons. A blank spot likely indicates that the amount of garbage was smaller. That is why .2 tons was selected (it is a lower estimate). "
   ]
  },
  {
   "cell_type": "code",
   "execution_count": 4,
   "metadata": {},
   "outputs": [
    {
     "data": {
      "text/html": [
       "<div>\n",
       "<style scoped>\n",
       "    .dataframe tbody tr th:only-of-type {\n",
       "        vertical-align: middle;\n",
       "    }\n",
       "\n",
       "    .dataframe tbody tr th {\n",
       "        vertical-align: top;\n",
       "    }\n",
       "\n",
       "    .dataframe thead th {\n",
       "        text-align: right;\n",
       "    }\n",
       "</style>\n",
       "<table border=\"1\" class=\"dataframe\">\n",
       "  <thead>\n",
       "    <tr style=\"text-align: right;\">\n",
       "      <th></th>\n",
       "      <th>estimated_tons</th>\n",
       "    </tr>\n",
       "    <tr>\n",
       "      <th>Neighborhood</th>\n",
       "      <th></th>\n",
       "    </tr>\n",
       "  </thead>\n",
       "  <tbody>\n",
       "    <tr>\n",
       "      <th>Allentown</th>\n",
       "      <td>0.5</td>\n",
       "    </tr>\n",
       "    <tr>\n",
       "      <th>Allentown</th>\n",
       "      <td>3</td>\n",
       "    </tr>\n",
       "    <tr>\n",
       "      <th>Allentown</th>\n",
       "      <td>1</td>\n",
       "    </tr>\n",
       "    <tr>\n",
       "      <th>Allentown</th>\n",
       "      <td>0.5</td>\n",
       "    </tr>\n",
       "    <tr>\n",
       "      <th>Allentown</th>\n",
       "      <td>0.1</td>\n",
       "    </tr>\n",
       "  </tbody>\n",
       "</table>\n",
       "</div>"
      ],
      "text/plain": [
       "             estimated_tons\n",
       "Neighborhood               \n",
       "Allentown               0.5\n",
       "Allentown                 3\n",
       "Allentown                 1\n",
       "Allentown               0.5\n",
       "Allentown               0.1"
      ]
     },
     "execution_count": 4,
     "metadata": {},
     "output_type": "execute_result"
    }
   ],
   "source": [
    "dumping_rate = illegal_dumping.drop([\"City\", \"location_description\", \"latitude\", \"longitude\", \"Unnamed: 8\", \"Status\"], axis = 1)\n",
    "dumping_rate.fillna(.2)\n",
    "dumping_rate = dumping_rate.set_index('Neighborhood')\n",
    "dumping_rate.iloc[0:5]"
   ]
  },
  {
   "cell_type": "markdown",
   "metadata": {},
   "source": [
    "This will find the average amount of garbage per dump. It is important to note that there is one major outlier (a value of 999 tons) which was included in the first average, but not the second."
   ]
  },
  {
   "cell_type": "code",
   "execution_count": 5,
   "metadata": {},
   "outputs": [
    {
     "name": "stdout",
     "output_type": "stream",
     "text": [
      "average amount of tons per dump is 2.902262443438915\n",
      "average amount of tons per dump without the outlier is 1.7741789354473396\n"
     ]
    }
   ],
   "source": [
    "#get data from estimated_tons and convert all empty cells and strings to 0\n",
    "#examples of strings are \"undetermined\" and \"unapplicable\"\n",
    "sum = 0\n",
    "for index, row in illegal_dumping.iterrows():\n",
    "    try:\n",
    "        k = float(row[3])           \n",
    "        if(math.isnan(k)):\n",
    "            row[3] = 0\n",
    "        else:\n",
    "            sum += k\n",
    "    except:\n",
    "        row[3] = 0\n",
    "average = sum/len(illegal_dumping.index)\n",
    "print(\"average amount of tons per dump is \" + str(average))\n",
    "average_no_outlier = (sum-999)/(len(illegal_dumping.index)-1)\n",
    "print(\"average amount of tons per dump without the outlier is \" + str(average_no_outlier))"
   ]
  },
  {
   "cell_type": "markdown",
   "metadata": {},
   "source": [
    "This code creates a dictionary which adds up all of the dumping for each neighborhood. At the end the dictionary is converted back into a pandas dataframe for further evaluation. The top 10 neighborhoods are printed from the dataframe."
   ]
  },
  {
   "cell_type": "code",
   "execution_count": 16,
   "metadata": {},
   "outputs": [
    {
     "name": "stdout",
     "output_type": "stream",
     "text": [
      "The average amount of Dumping per neighborhood is 16 tons\n"
     ]
    },
    {
     "data": {
      "text/html": [
       "<div>\n",
       "<style scoped>\n",
       "    .dataframe tbody tr th:only-of-type {\n",
       "        vertical-align: middle;\n",
       "    }\n",
       "\n",
       "    .dataframe tbody tr th {\n",
       "        vertical-align: top;\n",
       "    }\n",
       "\n",
       "    .dataframe thead th {\n",
       "        text-align: right;\n",
       "    }\n",
       "</style>\n",
       "<table border=\"1\" class=\"dataframe\">\n",
       "  <thead>\n",
       "    <tr style=\"text-align: right;\">\n",
       "      <th></th>\n",
       "      <th>total_dumping</th>\n",
       "    </tr>\n",
       "  </thead>\n",
       "  <tbody>\n",
       "    <tr>\n",
       "      <th>East Liberty</th>\n",
       "      <td>0.0</td>\n",
       "    </tr>\n",
       "    <tr>\n",
       "      <th>Freeport</th>\n",
       "      <td>0.0</td>\n",
       "    </tr>\n",
       "    <tr>\n",
       "      <th>Gibsonia</th>\n",
       "      <td>0.0</td>\n",
       "    </tr>\n",
       "    <tr>\n",
       "      <th>Sewickley</th>\n",
       "      <td>0.0</td>\n",
       "    </tr>\n",
       "    <tr>\n",
       "      <th>Harmarville</th>\n",
       "      <td>0.0</td>\n",
       "    </tr>\n",
       "    <tr>\n",
       "      <th>Natrona</th>\n",
       "      <td>0.0</td>\n",
       "    </tr>\n",
       "    <tr>\n",
       "      <th>North Park</th>\n",
       "      <td>0.2</td>\n",
       "    </tr>\n",
       "    <tr>\n",
       "      <th>O'Hara</th>\n",
       "      <td>0.3</td>\n",
       "    </tr>\n",
       "    <tr>\n",
       "      <th>Buena Vista</th>\n",
       "      <td>0.3</td>\n",
       "    </tr>\n",
       "    <tr>\n",
       "      <th>Point Breeze North</th>\n",
       "      <td>0.3</td>\n",
       "    </tr>\n",
       "  </tbody>\n",
       "</table>\n",
       "</div>"
      ],
      "text/plain": [
       "                    total_dumping\n",
       "East Liberty                  0.0\n",
       "Freeport                      0.0\n",
       "Gibsonia                      0.0\n",
       "Sewickley                     0.0\n",
       "Harmarville                   0.0\n",
       "Natrona                       0.0\n",
       "North Park                    0.2\n",
       "O'Hara                        0.3\n",
       "Buena Vista                   0.3\n",
       "Point Breeze North            0.3"
      ]
     },
     "execution_count": 16,
     "metadata": {},
     "output_type": "execute_result"
    }
   ],
   "source": [
    "neighborhoods = {}\n",
    "for index, row in illegal_dumping.iterrows():\n",
    "    name = row[2]\n",
    "    if not(name == 'To Be Determined'):\n",
    "        k = 0.2\n",
    "        try:\n",
    "            k = float(row[3])\n",
    "        except: pass\n",
    "        if math.isnan(k):\n",
    "            k = 0\n",
    "        if name in neighborhoods: \n",
    "            neighborhoods[name] += k\n",
    "        else:\n",
    "            neighborhoods[name] = k\n",
    "dumpPerHood = pd.DataFrame.from_dict(neighborhoods, orient='index')\n",
    "dumpPerHood.columns = ['total_dumping']\n",
    "averageDump = int(dumpPerHood.mean())\n",
    "print(\"The average amount of Dumping per neighborhood is \" + str(averageDump) + \" tons\")\n",
    "dumpPerHood.sort_values(by=['total_dumping'], ascending=True).head(10)"
   ]
  },
  {
   "cell_type": "markdown",
   "metadata": {},
   "source": [
    "Top 30 Neighborhoods represented by a Pandas bar graph."
   ]
  },
  {
   "cell_type": "code",
   "execution_count": 40,
   "metadata": {},
   "outputs": [
    {
     "data": {
      "text/plain": [
       "<matplotlib.axes._subplots.AxesSubplot at 0x7ff75e3ba400>"
      ]
     },
     "execution_count": 40,
     "metadata": {},
     "output_type": "execute_result"
    },
    {
     "data": {
      "image/png": "[encoded data removed]",
      "text/plain": [
       "<Figure size 432x288 with 1 Axes>"
      ]
     },
     "metadata": {
      "needs_background": "light"
     },
     "output_type": "display_data"
    }
   ],
   "source": [
    "lowest_garbage=dumpPerHood.sort_values(by=['total_dumping'], ascending=True).head(30)\n",
    "lowest_garbage.plot.bar()"
   ]
  },
  {
   "cell_type": "markdown",
   "metadata": {},
   "source": [
    "Based off the results of my data set, I found that there were multiple neighborhoods that had no illegal dumping. These included East Liberty, Freeport, Gibsonia, Sewickley, Harmarville, and Natrona. Any of these neighborhoods would be the best option if only considering the amount of illegal dumping. The average per neighborhood was slightly more than 16 tons, so any of these neighborhoods under 5 tons are also a very good options, being well ahead of the curve. Illegal dumping is a very important factor when selecting a neighborhood to live in because illegal dumping can have negative health effects. A large amount of dumping indicates a messy and unhealthy neighborhood. Additionally it reflects that a neighborhood is less likely to enforce health standards in general. Finding a place that is both clean and healthy to live in is very important, and thats why it is very important to consider illegal dumping and it's greater consequences and implications."
   ]
  }
 ],
 "metadata": {
  "kernelspec": {
   "display_name": "Python 3",
   "language": "python",
   "name": "python3"
  },
  "language_info": {
   "codemirror_mode": {
    "name": "ipython",
    "version": 3
   },
   "file_extension": ".py",
   "mimetype": "text/x-python",
   "name": "python",
   "nbconvert_exporter": "python",
   "pygments_lexer": "ipython3",
   "version": "3.8.3"
  }
 },
 "nbformat": 4,
 "nbformat_minor": 4
}
